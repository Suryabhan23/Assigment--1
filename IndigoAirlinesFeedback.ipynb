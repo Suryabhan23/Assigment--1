{
  "nbformat": 4,
  "nbformat_minor": 0,
  "metadata": {
    "colab": {
      "provenance": [],
      "include_colab_link": true
    },
    "kernelspec": {
      "name": "python3",
      "display_name": "Python 3"
    },
    "language_info": {
      "name": "python"
    }
  },
  "cells": [
    {
      "cell_type": "markdown",
      "metadata": {
        "id": "view-in-github",
        "colab_type": "text"
      },
      "source": [
        "<a href=\"https://colab.research.google.com/github/Suryabhan23/Assigment--1/blob/main/IndigoAirlinesFeedback.ipynb\" target=\"_parent\"><img src=\"https://colab.research.google.com/assets/colab-badge.svg\" alt=\"Open In Colab\"/></a>"
      ]
    },
    {
      "cell_type": "code",
      "execution_count": 2,
      "metadata": {
        "id": "BNFAqe_fPaE5"
      },
      "outputs": [],
      "source": [
        "from google.colab import files\n"
      ]
    },
    {
      "cell_type": "code",
      "source": [
        "uploaded = files.upload()"
      ],
      "metadata": {
        "colab": {
          "base_uri": "https://localhost:8080/",
          "height": 73
        },
        "id": "tbU4wLCSPfBi",
        "outputId": "a37ba153-0e41-4bc9-b47e-e9ea55ac5ce4"
      },
      "execution_count": 3,
      "outputs": [
        {
          "output_type": "display_data",
          "data": {
            "text/plain": [
              "<IPython.core.display.HTML object>"
            ],
            "text/html": [
              "\n",
              "     <input type=\"file\" id=\"files-92d75c85-ec11-481e-9505-4dd40ad17ab0\" name=\"files[]\" multiple disabled\n",
              "        style=\"border:none\" />\n",
              "     <output id=\"result-92d75c85-ec11-481e-9505-4dd40ad17ab0\">\n",
              "      Upload widget is only available when the cell has been executed in the\n",
              "      current browser session. Please rerun this cell to enable.\n",
              "      </output>\n",
              "      <script>// Copyright 2017 Google LLC\n",
              "//\n",
              "// Licensed under the Apache License, Version 2.0 (the \"License\");\n",
              "// you may not use this file except in compliance with the License.\n",
              "// You may obtain a copy of the License at\n",
              "//\n",
              "//      http://www.apache.org/licenses/LICENSE-2.0\n",
              "//\n",
              "// Unless required by applicable law or agreed to in writing, software\n",
              "// distributed under the License is distributed on an \"AS IS\" BASIS,\n",
              "// WITHOUT WARRANTIES OR CONDITIONS OF ANY KIND, either express or implied.\n",
              "// See the License for the specific language governing permissions and\n",
              "// limitations under the License.\n",
              "\n",
              "/**\n",
              " * @fileoverview Helpers for google.colab Python module.\n",
              " */\n",
              "(function(scope) {\n",
              "function span(text, styleAttributes = {}) {\n",
              "  const element = document.createElement('span');\n",
              "  element.textContent = text;\n",
              "  for (const key of Object.keys(styleAttributes)) {\n",
              "    element.style[key] = styleAttributes[key];\n",
              "  }\n",
              "  return element;\n",
              "}\n",
              "\n",
              "// Max number of bytes which will be uploaded at a time.\n",
              "const MAX_PAYLOAD_SIZE = 100 * 1024;\n",
              "\n",
              "function _uploadFiles(inputId, outputId) {\n",
              "  const steps = uploadFilesStep(inputId, outputId);\n",
              "  const outputElement = document.getElementById(outputId);\n",
              "  // Cache steps on the outputElement to make it available for the next call\n",
              "  // to uploadFilesContinue from Python.\n",
              "  outputElement.steps = steps;\n",
              "\n",
              "  return _uploadFilesContinue(outputId);\n",
              "}\n",
              "\n",
              "// This is roughly an async generator (not supported in the browser yet),\n",
              "// where there are multiple asynchronous steps and the Python side is going\n",
              "// to poll for completion of each step.\n",
              "// This uses a Promise to block the python side on completion of each step,\n",
              "// then passes the result of the previous step as the input to the next step.\n",
              "function _uploadFilesContinue(outputId) {\n",
              "  const outputElement = document.getElementById(outputId);\n",
              "  const steps = outputElement.steps;\n",
              "\n",
              "  const next = steps.next(outputElement.lastPromiseValue);\n",
              "  return Promise.resolve(next.value.promise).then((value) => {\n",
              "    // Cache the last promise value to make it available to the next\n",
              "    // step of the generator.\n",
              "    outputElement.lastPromiseValue = value;\n",
              "    return next.value.response;\n",
              "  });\n",
              "}\n",
              "\n",
              "/**\n",
              " * Generator function which is called between each async step of the upload\n",
              " * process.\n",
              " * @param {string} inputId Element ID of the input file picker element.\n",
              " * @param {string} outputId Element ID of the output display.\n",
              " * @return {!Iterable<!Object>} Iterable of next steps.\n",
              " */\n",
              "function* uploadFilesStep(inputId, outputId) {\n",
              "  const inputElement = document.getElementById(inputId);\n",
              "  inputElement.disabled = false;\n",
              "\n",
              "  const outputElement = document.getElementById(outputId);\n",
              "  outputElement.innerHTML = '';\n",
              "\n",
              "  const pickedPromise = new Promise((resolve) => {\n",
              "    inputElement.addEventListener('change', (e) => {\n",
              "      resolve(e.target.files);\n",
              "    });\n",
              "  });\n",
              "\n",
              "  const cancel = document.createElement('button');\n",
              "  inputElement.parentElement.appendChild(cancel);\n",
              "  cancel.textContent = 'Cancel upload';\n",
              "  const cancelPromise = new Promise((resolve) => {\n",
              "    cancel.onclick = () => {\n",
              "      resolve(null);\n",
              "    };\n",
              "  });\n",
              "\n",
              "  // Wait for the user to pick the files.\n",
              "  const files = yield {\n",
              "    promise: Promise.race([pickedPromise, cancelPromise]),\n",
              "    response: {\n",
              "      action: 'starting',\n",
              "    }\n",
              "  };\n",
              "\n",
              "  cancel.remove();\n",
              "\n",
              "  // Disable the input element since further picks are not allowed.\n",
              "  inputElement.disabled = true;\n",
              "\n",
              "  if (!files) {\n",
              "    return {\n",
              "      response: {\n",
              "        action: 'complete',\n",
              "      }\n",
              "    };\n",
              "  }\n",
              "\n",
              "  for (const file of files) {\n",
              "    const li = document.createElement('li');\n",
              "    li.append(span(file.name, {fontWeight: 'bold'}));\n",
              "    li.append(span(\n",
              "        `(${file.type || 'n/a'}) - ${file.size} bytes, ` +\n",
              "        `last modified: ${\n",
              "            file.lastModifiedDate ? file.lastModifiedDate.toLocaleDateString() :\n",
              "                                    'n/a'} - `));\n",
              "    const percent = span('0% done');\n",
              "    li.appendChild(percent);\n",
              "\n",
              "    outputElement.appendChild(li);\n",
              "\n",
              "    const fileDataPromise = new Promise((resolve) => {\n",
              "      const reader = new FileReader();\n",
              "      reader.onload = (e) => {\n",
              "        resolve(e.target.result);\n",
              "      };\n",
              "      reader.readAsArrayBuffer(file);\n",
              "    });\n",
              "    // Wait for the data to be ready.\n",
              "    let fileData = yield {\n",
              "      promise: fileDataPromise,\n",
              "      response: {\n",
              "        action: 'continue',\n",
              "      }\n",
              "    };\n",
              "\n",
              "    // Use a chunked sending to avoid message size limits. See b/62115660.\n",
              "    let position = 0;\n",
              "    do {\n",
              "      const length = Math.min(fileData.byteLength - position, MAX_PAYLOAD_SIZE);\n",
              "      const chunk = new Uint8Array(fileData, position, length);\n",
              "      position += length;\n",
              "\n",
              "      const base64 = btoa(String.fromCharCode.apply(null, chunk));\n",
              "      yield {\n",
              "        response: {\n",
              "          action: 'append',\n",
              "          file: file.name,\n",
              "          data: base64,\n",
              "        },\n",
              "      };\n",
              "\n",
              "      let percentDone = fileData.byteLength === 0 ?\n",
              "          100 :\n",
              "          Math.round((position / fileData.byteLength) * 100);\n",
              "      percent.textContent = `${percentDone}% done`;\n",
              "\n",
              "    } while (position < fileData.byteLength);\n",
              "  }\n",
              "\n",
              "  // All done.\n",
              "  yield {\n",
              "    response: {\n",
              "      action: 'complete',\n",
              "    }\n",
              "  };\n",
              "}\n",
              "\n",
              "scope.google = scope.google || {};\n",
              "scope.google.colab = scope.google.colab || {};\n",
              "scope.google.colab._files = {\n",
              "  _uploadFiles,\n",
              "  _uploadFilesContinue,\n",
              "};\n",
              "})(self);\n",
              "</script> "
            ]
          },
          "metadata": {}
        },
        {
          "output_type": "stream",
          "name": "stdout",
          "text": [
            "Saving indigo_meal_feedback_case_study.csv to indigo_meal_feedback_case_study.csv\n"
          ]
        }
      ]
    },
    {
      "cell_type": "code",
      "source": [
        "\n",
        "import pandas as pd\n",
        "\n",
        "df = pd.read_csv(\"indigo_meal_feedback_case_study.csv\")\n",
        "df.info()"
      ],
      "metadata": {
        "id": "W1V4M09tPjj-",
        "colab": {
          "base_uri": "https://localhost:8080/"
        },
        "outputId": "26c7935e-1831-4e12-b9df-4baa3d4e0e44"
      },
      "execution_count": 4,
      "outputs": [
        {
          "output_type": "stream",
          "name": "stdout",
          "text": [
            "<class 'pandas.core.frame.DataFrame'>\n",
            "RangeIndex: 100 entries, 0 to 99\n",
            "Data columns (total 9 columns):\n",
            " #   Column            Non-Null Count  Dtype  \n",
            "---  ------            --------------  -----  \n",
            " 0   feedback_id       100 non-null    object \n",
            " 1   customer_id       100 non-null    object \n",
            " 2   meal_type         100 non-null    object \n",
            " 3   route             100 non-null    object \n",
            " 4   taste_rating      96 non-null     float64\n",
            " 5   freshness_rating  100 non-null    int64  \n",
            " 6   packaging_rating  100 non-null    int64  \n",
            " 7   complaint_flag    98 non-null     object \n",
            " 8   meal_provider     100 non-null    object \n",
            "dtypes: float64(1), int64(2), object(6)\n",
            "memory usage: 7.2+ KB\n"
          ]
        }
      ]
    },
    {
      "cell_type": "markdown",
      "source": [
        "Step 1: Prepare the Data"
      ],
      "metadata": {
        "id": "KmCG5vjGl0DI"
      }
    },
    {
      "cell_type": "code",
      "source": [
        "#Remove duplicate entries based on feedback_id\n",
        "clean_ticket = df.drop_duplicates(subset='feedback_id', keep='first')\n",
        "print(clean_ticket)\n",
        "\n",
        "#Ensure that all values in meal_type are in title case (e.g., Veg, Non-Veg)\n",
        "\n",
        "df['meal_type'] = df['meal_type'].str.title()\n",
        "print(df['meal_type'].head())\n",
        "\n",
        "# Convert all values in the route column to uppercase\n",
        "df['route'] = df['route'].str.upper()\n",
        "print(df['route'])\n",
        "\n",
        "\n",
        "#4. Fix values in `complaint_flag` column:\n",
        "   # - Standardize misspelled entries like `\"yess\"` → `\"Yes\"`, `\"noo\"` → `\"No\"`\n",
        "   # - Fill missing values with `\"Not Available\"`\n",
        "df['complaint_flag'] = df['complaint_flag'].replace({ 'yess' : 'Yes','noo':'No'}).fillna('Not Available')\n",
        "print(df['complaint_flag'])\n",
        "\n",
        "#Fill missing values in taste_rating with a neutral default (use 3)\n",
        "\n",
        "df['taste_rating']= df['taste_rating'].fillna(3)\n",
        "print(df['taste_rating'])"
      ],
      "metadata": {
        "colab": {
          "base_uri": "https://localhost:8080/"
        },
        "id": "yLhMJLIql--J",
        "outputId": "ae17b2ed-3c84-475e-aa07-46ad1af4ac96"
      },
      "execution_count": null,
      "outputs": [
        {
          "output_type": "stream",
          "name": "stdout",
          "text": [
            "   feedback_id customer_id meal_type    route  taste_rating  freshness_rating  \\\n",
            "0    FDBK-1000    CUST-101       Veg  BOM-HYD           1.0                 1   \n",
            "1    FDBK-1001    CUST-108       Veg  DEL-BLR           1.0                 5   \n",
            "2    FDBK-1002    CUST-107       Veg  MAA-CCU           2.0                 5   \n",
            "3    FDBK-1003    CUST-100   Non-Veg  BOM-HYD           2.0                 4   \n",
            "4    FDBK-1004    CUST-102   Non-Veg  DEL-BLR           1.0                 3   \n",
            "..         ...         ...       ...      ...           ...               ...   \n",
            "95   FDBK-1095    CUST-109       Veg  MAA-CCU           4.0                 4   \n",
            "96   FDBK-1096    CUST-105   Non-Veg  DEL-PNQ           1.0                 3   \n",
            "97   FDBK-1097    CUST-109   Non-Veg  DEL-PNQ           5.0                 5   \n",
            "98   FDBK-1098    CUST-104   Non-Veg  BOM-HYD           4.0                 3   \n",
            "99   FDBK-1099    CUST-104       Veg  BOM-HYD           4.0                 4   \n",
            "\n",
            "    packaging_rating complaint_flag meal_provider  \n",
            "0                  3            Yes       TajSATS  \n",
            "1                  4  Not Available       TajSATS  \n",
            "2                  4            Yes  LocalCaterer  \n",
            "3                  3            Yes       TajSATS  \n",
            "4                  3            Yes  LocalCaterer  \n",
            "..               ...            ...           ...  \n",
            "95                 2             No       TajSATS  \n",
            "96                 4            Yes    SkyGourmet  \n",
            "97                 4             No    SkyGourmet  \n",
            "98                 2             No    SkyGourmet  \n",
            "99                 2             No  LocalCaterer  \n",
            "\n",
            "[100 rows x 9 columns]\n",
            "0        Veg\n",
            "1        Veg\n",
            "2        Veg\n",
            "3    Non-Veg\n",
            "4    Non-Veg\n",
            "Name: meal_type, dtype: object\n",
            "0     BOM-HYD\n",
            "1     DEL-BLR\n",
            "2     MAA-CCU\n",
            "3     BOM-HYD\n",
            "4     DEL-BLR\n",
            "       ...   \n",
            "95    MAA-CCU\n",
            "96    DEL-PNQ\n",
            "97    DEL-PNQ\n",
            "98    BOM-HYD\n",
            "99    BOM-HYD\n",
            "Name: route, Length: 100, dtype: object\n",
            "0               Yes\n",
            "1     Not Available\n",
            "2               Yes\n",
            "3               Yes\n",
            "4               Yes\n",
            "          ...      \n",
            "95               No\n",
            "96              Yes\n",
            "97               No\n",
            "98               No\n",
            "99               No\n",
            "Name: complaint_flag, Length: 100, dtype: object\n",
            "0     1.0\n",
            "1     1.0\n",
            "2     2.0\n",
            "3     2.0\n",
            "4     1.0\n",
            "     ... \n",
            "95    4.0\n",
            "96    1.0\n",
            "97    5.0\n",
            "98    4.0\n",
            "99    4.0\n",
            "Name: taste_rating, Length: 100, dtype: float64\n"
          ]
        }
      ]
    },
    {
      "cell_type": "markdown",
      "source": [
        "## Step 2: Analysis Report\n",
        "\n",
        "Once the data is clean, break your report into sections."
      ],
      "metadata": {
        "id": "FBOi1lu9EhC1"
      }
    },
    {
      "cell_type": "code",
      "source": [
        "#How many passengers gave a taste rating less than 3?\n",
        "Low_rating = df[df['taste_rating']<3]\n",
        "print(\"passengers gave a taste rating less than 3\",len (Low_rating))\n",
        "\n",
        "#Out of those, how many were served by each meal provider?\n",
        "\n",
        "low_taste = df[df['taste_rating'] < 3]\n",
        "meal_counts = low_taste['meal_provider'].value_counts()\n",
        "print(meal_counts)\n",
        "\n",
        "#Which routes had feedback with taste < 3? Print the feedback IDs and routes.\n",
        "Low =  df[df['taste_rating'] < 3]\n",
        "print(\" routes had feedback with taste < 3\", Low[['feedback_id','route']])\n",
        "\n",
        "#Print all feedback entries where both taste and freshness were rated ≤ 2.\n",
        "\n",
        "Low_freshness_taste = df[(df['taste_rating'] <=2)&(df['freshness_rating']<=2)]\n",
        "print(\"feedback entries where both taste and freshness were rated ≤ 2\",Low_freshness_taste)"
      ],
      "metadata": {
        "colab": {
          "base_uri": "https://localhost:8080/"
        },
        "id": "3oFl7W2oEnrG",
        "outputId": "c48666c6-6fe8-4f9d-c4c6-04e9d29c272c"
      },
      "execution_count": 5,
      "outputs": [
        {
          "output_type": "stream",
          "name": "stdout",
          "text": [
            "passengers gave a taste rating less than 3 42\n",
            "meal_provider\n",
            "TajSATS         15\n",
            "LocalCaterer    14\n",
            "SkyGourmet      13\n",
            "Name: count, dtype: int64\n",
            " routes had feedback with taste < 3    feedback_id    route\n",
            "0    FDBK-1000  BOM-HYD\n",
            "1    FDBK-1001  DEL-BLR\n",
            "2    FDBK-1002  MAA-CCU\n",
            "3    FDBK-1003  BOM-HYD\n",
            "4    FDBK-1004  DEL-BLR\n",
            "9    FDBK-1009  BOM-HYD\n",
            "10   FDBK-1010  DEL-PNQ\n",
            "13   FDBK-1013  BLR-GOA\n",
            "18   FDBK-1018  MAA-CCU\n",
            "19   FDBK-1019  BLR-GOA\n",
            "20   FDBK-1020  DEL-BLR\n",
            "21   FDBK-1021  BOM-HYD\n",
            "24   FDBK-1024  DEL-BLR\n",
            "25   FDBK-1025  MAA-CCU\n",
            "26   FDBK-1026  BLR-GOA\n",
            "28   FDBK-1028  DEL-PNQ\n",
            "29   FDBK-1029  BOM-HYD\n",
            "31   FDBK-1031  MAA-CCU\n",
            "32   FDBK-1032  DEL-BLR\n",
            "33   FDBK-1033  BOM-HYD\n",
            "35   FDBK-1035  BLR-GOA\n",
            "38   FDBK-1038  DEL-PNQ\n",
            "39   FDBK-1039  DEL-BLR\n",
            "47   FDBK-1047  MAA-CCU\n",
            "50   FDBK-1050  DEL-BLR\n",
            "51   FDBK-1051  DEL-PNQ\n",
            "58   FDBK-1058  DEL-BLR\n",
            "61   FDBK-1061  MAA-CCU\n",
            "64   FDBK-1064  MAA-CCU\n",
            "65   FDBK-1065  DEL-PNQ\n",
            "67   FDBK-1067  DEL-PNQ\n",
            "68   FDBK-1068  MAA-CCU\n",
            "75   FDBK-1075  DEL-BLR\n",
            "76   FDBK-1076  DEL-BLR\n",
            "82   FDBK-1082  DEL-BLR\n",
            "84   FDBK-1084  MAA-CCU\n",
            "85   FDBK-1085  BLR-GOA\n",
            "86   FDBK-1086  BLR-GOA\n",
            "88   FDBK-1088  BOM-HYD\n",
            "93   FDBK-1093  BOM-HYD\n",
            "94   FDBK-1094  MAA-CCU\n",
            "96   FDBK-1096  DEL-PNQ\n",
            "feedback entries where both taste and freshness were rated ≤ 2    feedback_id customer_id meal_type    route  taste_rating  freshness_rating  \\\n",
            "0    FDBK-1000    CUST-101       Veg  BOM-HYD           1.0                 1   \n",
            "9    FDBK-1009    CUST-107   Non-Veg  BOM-HYD           1.0                 2   \n",
            "13   FDBK-1013    CUST-106   non-veg  BLR-GOA           1.0                 1   \n",
            "19   FDBK-1019    CUST-106       Veg  BLR-GOA           1.0                 2   \n",
            "20   FDBK-1020    CUST-105       veg  DEL-BLR           1.0                 1   \n",
            "24   FDBK-1024    CUST-100       Veg  DEL-BLR           2.0                 1   \n",
            "25   FDBK-1025    CUST-109   Non-Veg  MAA-CCU           2.0                 2   \n",
            "28   FDBK-1028    CUST-110   non-veg  DEL-PNQ           1.0                 1   \n",
            "29   FDBK-1029    CUST-110       veg  BOM-HYD           2.0                 1   \n",
            "32   FDBK-1032    CUST-101       veg  DEL-BLR           1.0                 1   \n",
            "33   FDBK-1033    CUST-106   Non-Veg  BOM-HYD           1.0                 2   \n",
            "50   FDBK-1050    CUST-108   Non-Veg  DEL-BLR           2.0                 1   \n",
            "51   FDBK-1051    CUST-106   Non-Veg  DEL-PNQ           1.0                 1   \n",
            "61   FDBK-1061    CUST-110       veg  MAA-CCU           1.0                 1   \n",
            "65   FDBK-1065    CUST-102       Veg  DEL-PNQ           1.0                 2   \n",
            "75   FDBK-1075    CUST-104   Non-Veg  DEL-BLR           2.0                 1   \n",
            "82   FDBK-1082    CUST-109   non-veg  DEL-BLR           1.0                 2   \n",
            "84   FDBK-1084    CUST-110       Veg  MAA-CCU           1.0                 2   \n",
            "85   FDBK-1085    CUST-106       Veg  BLR-GOA           2.0                 1   \n",
            "93   FDBK-1093    CUST-103       Veg  BOM-HYD           1.0                 1   \n",
            "\n",
            "    packaging_rating complaint_flag meal_provider  \n",
            "0                  3            Yes       TajSATS  \n",
            "9                  5            Yes  LocalCaterer  \n",
            "13                 5            NaN       TajSATS  \n",
            "19                 2            Yes       TajSATS  \n",
            "20                 2            Yes    SkyGourmet  \n",
            "24                 4            Yes  LocalCaterer  \n",
            "25                 4            Yes       TajSATS  \n",
            "28                 5            Yes  LocalCaterer  \n",
            "29                 5            Yes    SkyGourmet  \n",
            "32                 4            Yes  LocalCaterer  \n",
            "33                 3            Yes    SkyGourmet  \n",
            "50                 3            Yes       TajSATS  \n",
            "51                 2            Yes       TajSATS  \n",
            "61                 4            Yes       TajSATS  \n",
            "65                 3            Yes       TajSATS  \n",
            "75                 2            Yes  LocalCaterer  \n",
            "82                 2            Yes       TajSATS  \n",
            "84                 3            Yes       TajSATS  \n",
            "85                 1            Yes  LocalCaterer  \n",
            "93                 5            Yes    SkyGourmet  \n"
          ]
        }
      ]
    },
    {
      "cell_type": "markdown",
      "source": [
        "🧑‍🍳 Part B: Is the Problem Linked to a Specific Meal Provider?"
      ],
      "metadata": {
        "id": "TLOLXhweJa5x"
      }
    },
    {
      "cell_type": "code",
      "source": [
        "#Count how many complaints (complaint_flag = Yes) were raised per provider.\n",
        "\n",
        "complaints = df[df['complaint_flag']=='Yes']['meal_provider'].value_counts()\n",
        "print(\"Complain flad yes\",complaints)\n",
        "\n",
        "# From the passengers who gave low taste scores (<3), how many meals were provided by LocalCaterer?\n",
        "\n",
        "low_taste = df[df['taste_rating']<3]\n",
        "local_caters_count = low_taste['meal_provider'].value_counts()\n",
        "\n",
        "print(\"Meal provided by Local_caters who gave low taste score\",local_caters_count)\n",
        "\n",
        "#List the feedback IDs where packaging rating ≤ 2 and provider = SkyGourmet.\n",
        "\n",
        "List = df[(df['packaging_rating']<=2)&(df['meal_provider']=='SkyGourmet')]['feedback_id']\n",
        "print('feedback IDs where packaging rating ≤ 2 and provider = SkyGourmet', List)"
      ],
      "metadata": {
        "id": "5nJoT2ZJKQgQ",
        "outputId": "ca70c0d4-faab-4d2d-eb77-3389d5edb5d9",
        "colab": {
          "base_uri": "https://localhost:8080/"
        }
      },
      "execution_count": 6,
      "outputs": [
        {
          "output_type": "stream",
          "name": "stdout",
          "text": [
            "Complain flad yes meal_provider\n",
            "TajSATS         27\n",
            "LocalCaterer    24\n",
            "SkyGourmet      19\n",
            "Name: count, dtype: int64\n",
            "Meal provided by Local_caters who gave low taste score meal_provider\n",
            "TajSATS         15\n",
            "LocalCaterer    14\n",
            "SkyGourmet      13\n",
            "Name: count, dtype: int64\n",
            "feedback IDs where packaging rating ≤ 2 and provider = SkyGourmet 6     FDBK-1006\n",
            "12    FDBK-1012\n",
            "20    FDBK-1020\n",
            "21    FDBK-1021\n",
            "39    FDBK-1039\n",
            "40    FDBK-1040\n",
            "56    FDBK-1056\n",
            "67    FDBK-1067\n",
            "71    FDBK-1071\n",
            "78    FDBK-1078\n",
            "80    FDBK-1080\n",
            "98    FDBK-1098\n",
            "Name: feedback_id, dtype: object\n"
          ]
        }
      ]
    },
    {
      "cell_type": "markdown",
      "source": [
        "🛫 Part C: Is the Problem Route-Specific?"
      ],
      "metadata": {
        "id": "8aRFBc5XnsgO"
      }
    },
    {
      "cell_type": "code",
      "source": [
        "#Count how many low-rated meals (taste < 3) came from the route DEL-BLR.\n",
        "lowrated_meals = df[(df['taste_rating']<3)&(df['route']=='DEL-BLR')]\n",
        "print(\"low - rated meal on route :\",len(lowrated_meals))\n",
        "\n",
        "#Count complaints raised on the BOM-HYD route.\n",
        "complain = df[(df['complaint_flag']=='Yes')&(df['route']=='BOM-HYD')]\n",
        "print(\"complain raise on BOM_HYD:\",len(complain))\n",
        "\n",
        "#Print all feedback where freshness rating ≤ 2 AND the route is MAA-CCU.\n",
        "\n",
        "All_feddback = df[(df['freshness_rating']<=2)&(df['route']=='MAA-CCU')]\n",
        "print(\"all feedback where freshness rating ≤ 2 AND the route is MAA-CCU\",len(All_feddback))"
      ],
      "metadata": {
        "id": "O9CiUp3ynuRk",
        "outputId": "aaedd2cd-58b0-46cb-98f8-c1ac6cc76bba",
        "colab": {
          "base_uri": "https://localhost:8080/"
        }
      },
      "execution_count": null,
      "outputs": [
        {
          "output_type": "stream",
          "name": "stdout",
          "text": [
            "low - rated meal on route : 11\n",
            "complain raise on BOM_HYD: 12\n",
            "all feed-back 8\n"
          ]
        }
      ]
    },
    {
      "cell_type": "markdown",
      "source": [
        "🎁 Part D: Evaluating the Packaging"
      ],
      "metadata": {
        "id": "pOW_aLcbIrJy"
      }
    },
    {
      "cell_type": "code",
      "source": [
        "#How many meals had packaging rated < 3?\n",
        "\n",
        "packaging = df[df['packaging_rating']<3]\n",
        "print(len(packaging))\n",
        "\n",
        "#Among those, how many were from flights that also had complaints raised?\n",
        "packaging_complaints = df[(df['packaging_rating'] < 3) & (df['complaint_flag'] == 'Yes')]\n",
        "print(\"Meals with Complain:\", len(packaging_complaints))\n",
        "\n",
        "#From the feedback with poor packaging (<3), which provider is most frequent\n",
        "poor_packing = df[df['packaging_rating']<3]\n",
        "provider_counts= poor_packing['meal_provider'].value_counts()\n",
        "most_frequent= provider_counts.idxmax()\n",
        "print(\"Provider with most poor packaging ratings:\", most_frequent)\n",
        "print(\"Meal providers with poor packaging\", provider_counts)\n",
        "\n"
      ],
      "metadata": {
        "id": "VAX-VfOiIsTN",
        "outputId": "2f63d383-4348-4f8b-e1d0-6015a780c5a4",
        "colab": {
          "base_uri": "https://localhost:8080/"
        }
      },
      "execution_count": null,
      "outputs": [
        {
          "output_type": "stream",
          "name": "stdout",
          "text": [
            "40\n",
            "Meals with Complain: 30\n",
            "Provider with most poor packaging ratings: TajSATS\n",
            "Meal providers with poor packaging meal_provider\n",
            "TajSATS         16\n",
            "SkyGourmet      12\n",
            "LocalCaterer    12\n",
            "Name: count, dtype: int64\n",
            "Most Frequent  TajSATS\n"
          ]
        }
      ]
    },
    {
      "cell_type": "markdown",
      "source": [
        "🔁 Part E: Are the Same Customers Complaining Often?"
      ],
      "metadata": {
        "id": "WZ7QOnE5eQLW"
      }
    },
    {
      "cell_type": "code",
      "source": [
        "#Count how many customers (by customer_id) appear more than once.\n",
        "duplicate_Customer = df['customer_id'].value_counts()\n",
        "customer_more_than_once = duplicate_Customer[duplicate_Customer>1]\n",
        "print(\"Customer_appear_morethan one\",len(customer_more_than_once))\n",
        "#From those repeat customers, how many gave poor taste scores (≤ 2) in multiple entries?\n",
        "repeat_customer = df['customer_id'].value_counts()\n",
        "repeat_customer = repeat_customer[repeat_customer>1].index\n",
        "#2 Keep only feed back from customer\n",
        "repeat_entries = df[df['customer_id'].isin(repeat_customer)]\n",
        "#3 Keep only row with poor taste\n",
        "poor_taste = repeat_entries[repeat_entries['taste_rating']<=2]\n",
        "#count how often customer gave poor rating\n",
        "poor_taste_counts = poor_taste['customer_id'].value_counts()\n",
        "repeat_poor_taste = poor_taste_counts[poor_taste_counts > 1]\n",
        "\n",
        "\n",
        "print(\"Repeat customers who gave poor taste scores (≤2) more than once:\", len(repeat_poor_taste))\n",
        "print(repeat_poor_taste)\n"
      ],
      "metadata": {
        "id": "hY-nzbFgeRUO",
        "outputId": "4fc950c9-3751-4fe4-ee35-46ccc1e8b51c",
        "colab": {
          "base_uri": "https://localhost:8080/"
        }
      },
      "execution_count": null,
      "outputs": [
        {
          "output_type": "stream",
          "name": "stdout",
          "text": [
            "Customer_appear_morethan one 11\n",
            "Repeat customers who gave poor taste scores (≤2) more than once: 11\n",
            "customer_id\n",
            "CUST-110    8\n",
            "CUST-106    7\n",
            "CUST-104    5\n",
            "CUST-109    4\n",
            "CUST-107    3\n",
            "CUST-101    3\n",
            "CUST-108    3\n",
            "CUST-102    3\n",
            "CUST-100    2\n",
            "CUST-105    2\n",
            "CUST-103    2\n",
            "Name: count, dtype: int64\n"
          ]
        }
      ]
    },
    {
      "cell_type": "markdown",
      "source": [
        "Report to management"
      ],
      "metadata": {
        "id": "MM2tuFBDEjxi"
      }
    },
    {
      "cell_type": "markdown",
      "source": [
        "Vendors with Most Complaints:\n",
        "\n",
        "1 TajSATS received the most complaints, especially in poor packaging and taste (<3 ratings).\n",
        "\n",
        "2 LocalCaterer and SkyGourmet followed closely with similar issues, especially on major routes like DEL-BLR and BOM-HYD.\n",
        "\n",
        "Problematic Routes:\n",
        "\n",
        "3 DEL-BLR and BOM-HYD routes had the highest number of complaints and low ratings.\n",
        "\n",
        "4 MAA-CCU showed recurring issues with freshness ratings ≤2.\n",
        "\n",
        "Meal Type Trends:\n",
        "\n",
        "5Non-Veg meals were reported more often with issues than Veg meals, especially in taste and freshness.\n",
        "\n",
        "Packaging Concerns:\n",
        "\n",
        "6 40 meals had packaging rated <3.\n",
        "\n",
        "7 TajSATS was the most frequent provider in poor packaging feedback, with 16 complaints.\n",
        "\n",
        "30 of these 40 meals also had a complaint flag marked \"Yes\".\n",
        "\n",
        "Repeat Customer Insights:\n",
        "\n",
        "11 customers submitted feedback multiple times.\n",
        "\n",
        "All 11 repeat customers gave poor taste scores (≤2) multiple times, especially CUST-110 (8 complaints) and CUST-106 (7 complaints).\n",
        "\n",
        "Indicates a need for targeted follow-up and retention strategy.\n",
        "\n",
        "📈 Recommendation:\n",
        "Review service quality from TajSATS and SkyGourmet especially for routes DEL-BLR and BOM-HYD.\n",
        "\n",
        "Prioritize improvements in Non-Veg meal prep and packaging standards.\n",
        "\n",
        "Reach out to frequent complainers like CUST-110 and CUST-106 to restore customer trust."
      ],
      "metadata": {
        "id": "56hbTmIiE-8A"
      }
    },
    {
      "cell_type": "markdown",
      "source": [],
      "metadata": {
        "id": "hNE0-0iTFqy3"
      }
    }
  ]
}